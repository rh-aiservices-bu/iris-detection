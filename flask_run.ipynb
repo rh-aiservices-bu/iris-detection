{
 "cells": [
  {
   "cell_type": "markdown",
   "metadata": {},
   "source": [
    "## Run Flask\n",
    "Run your flask app (`wsgi.py`) from here and test it from a separate notebook."
   ]
  },
  {
   "cell_type": "code",
   "execution_count": 1,
   "metadata": {},
   "outputs": [
    {
     "name": "stdout",
     "output_type": "stream",
     "text": [
      "Defaulting to user installation because normal site-packages is not writeable\n",
      "Requirement already satisfied: pandas in /home/panbalag/.local/lib/python3.10/site-packages (from -r requirements.txt (line 1)) (1.5.0)\n",
      "Requirement already satisfied: numpy in /home/panbalag/.local/lib/python3.10/site-packages (from -r requirements.txt (line 2)) (1.23.3)\n",
      "Requirement already satisfied: sns in /home/panbalag/.local/lib/python3.10/site-packages (from -r requirements.txt (line 3)) (0.1)\n",
      "Requirement already satisfied: seaborn in /home/panbalag/.local/lib/python3.10/site-packages (from -r requirements.txt (line 4)) (0.12.0)\n",
      "Requirement already satisfied: sklearn in /home/panbalag/.local/lib/python3.10/site-packages (from -r requirements.txt (line 5)) (0.0)\n",
      "Requirement already satisfied: joblib in /home/panbalag/.local/lib/python3.10/site-packages (from -r requirements.txt (line 6)) (1.2.0)\n",
      "Requirement already satisfied: flask in /home/panbalag/.local/lib/python3.10/site-packages (from -r requirements.txt (line 7)) (2.2.2)\n",
      "Requirement already satisfied: python-dateutil>=2.8.1 in /home/panbalag/.local/lib/python3.10/site-packages (from pandas->-r requirements.txt (line 1)) (2.8.2)\n",
      "Requirement already satisfied: pytz>=2020.1 in /usr/lib/python3.10/site-packages (from pandas->-r requirements.txt (line 1)) (2022.1)\n",
      "Requirement already satisfied: matplotlib>=3.1 in /home/panbalag/.local/lib/python3.10/site-packages (from seaborn->-r requirements.txt (line 4)) (3.6.0)\n",
      "Requirement already satisfied: scikit-learn in /home/panbalag/.local/lib/python3.10/site-packages (from sklearn->-r requirements.txt (line 5)) (1.1.2)\n",
      "Requirement already satisfied: click>=8.0 in /usr/lib/python3.10/site-packages (from flask->-r requirements.txt (line 7)) (8.0.1)\n",
      "Requirement already satisfied: Werkzeug>=2.2.2 in /home/panbalag/.local/lib/python3.10/site-packages (from flask->-r requirements.txt (line 7)) (2.2.2)\n",
      "Requirement already satisfied: Jinja2>=3.0 in /home/panbalag/.local/lib/python3.10/site-packages (from flask->-r requirements.txt (line 7)) (3.1.2)\n",
      "Requirement already satisfied: itsdangerous>=2.0 in /home/panbalag/.local/lib/python3.10/site-packages (from flask->-r requirements.txt (line 7)) (2.1.2)\n",
      "Requirement already satisfied: MarkupSafe>=2.0 in /home/panbalag/.local/lib/python3.10/site-packages (from Jinja2>=3.0->flask->-r requirements.txt (line 7)) (2.1.1)\n",
      "Requirement already satisfied: kiwisolver>=1.0.1 in /home/panbalag/.local/lib/python3.10/site-packages (from matplotlib>=3.1->seaborn->-r requirements.txt (line 4)) (1.4.4)\n",
      "Requirement already satisfied: fonttools>=4.22.0 in /home/panbalag/.local/lib/python3.10/site-packages (from matplotlib>=3.1->seaborn->-r requirements.txt (line 4)) (4.37.3)\n",
      "Requirement already satisfied: pillow>=6.2.0 in /usr/lib64/python3.10/site-packages (from matplotlib>=3.1->seaborn->-r requirements.txt (line 4)) (8.3.2)\n",
      "Requirement already satisfied: cycler>=0.10 in /home/panbalag/.local/lib/python3.10/site-packages (from matplotlib>=3.1->seaborn->-r requirements.txt (line 4)) (0.11.0)\n",
      "Requirement already satisfied: contourpy>=1.0.1 in /home/panbalag/.local/lib/python3.10/site-packages (from matplotlib>=3.1->seaborn->-r requirements.txt (line 4)) (1.0.5)\n",
      "Requirement already satisfied: pyparsing>=2.2.1 in /usr/lib/python3.10/site-packages (from matplotlib>=3.1->seaborn->-r requirements.txt (line 4)) (2.4.7)\n",
      "Requirement already satisfied: packaging>=20.0 in /usr/lib/python3.10/site-packages (from matplotlib>=3.1->seaborn->-r requirements.txt (line 4)) (21.3)\n",
      "Requirement already satisfied: six>=1.5 in /usr/lib/python3.10/site-packages (from python-dateutil>=2.8.1->pandas->-r requirements.txt (line 1)) (1.16.0)\n",
      "Requirement already satisfied: scipy>=1.3.2 in /home/panbalag/.local/lib/python3.10/site-packages (from scikit-learn->sklearn->-r requirements.txt (line 5)) (1.9.1)\n",
      "Requirement already satisfied: threadpoolctl>=2.0.0 in /home/panbalag/.local/lib/python3.10/site-packages (from scikit-learn->sklearn->-r requirements.txt (line 5)) (3.1.0)\n"
     ]
    }
   ],
   "source": [
    "import sys\n",
    "!{sys.executable} -m pip install -r requirements.txt\n"
   ]
  },
  {
   "cell_type": "code",
   "execution_count": null,
   "metadata": {},
   "outputs": [
    {
     "name": "stdout",
     "output_type": "stream",
     "text": [
      "'FLASK_ENV' is deprecated and will not be used in Flask 2.3. Use 'FLASK_DEBUG' instead.\n",
      "'FLASK_ENV' is deprecated and will not be used in Flask 2.3. Use 'FLASK_DEBUG' instead.\n",
      "'FLASK_ENV' is deprecated and will not be used in Flask 2.3. Use 'FLASK_DEBUG' instead.\n",
      " * Serving Flask app 'wsgi.py'\n",
      " * Debug mode: on\n",
      "\u001b[31m\u001b[1mWARNING: This is a development server. Do not use it in a production deployment. Use a production WSGI server instead.\u001b[0m\n",
      " * Running on http://127.0.0.1:5000\n",
      "\u001b[33mPress CTRL+C to quit\u001b[0m\n",
      " * Restarting with stat\n",
      "'FLASK_ENV' is deprecated and will not be used in Flask 2.3. Use 'FLASK_DEBUG' instead.\n",
      "'FLASK_ENV' is deprecated and will not be used in Flask 2.3. Use 'FLASK_DEBUG' instead.\n",
      "'FLASK_ENV' is deprecated and will not be used in Flask 2.3. Use 'FLASK_DEBUG' instead.\n",
      " * Debugger is active!\n",
      " * Debugger PIN: 125-541-258\n",
      "---------------------------------\n",
      "<class 'dict'>\n",
      "---------------------------------\n",
      "/home/panbalag/.local/lib/python3.10/site-packages/sklearn/base.py:450: UserWarning: X does not have valid feature names, but KNeighborsClassifier was fitted with feature names\n",
      "  warnings.warn(\n",
      "['Iris-versicolor']\n",
      "127.0.0.1 - - [26/Sep/2022 20:09:02] \"POST /predictions HTTP/1.1\" 200 -\n",
      "---------------------------------\n",
      "<class 'dict'>\n",
      "---------------------------------\n",
      "/home/panbalag/.local/lib/python3.10/site-packages/sklearn/base.py:450: UserWarning: X does not have valid feature names, but KNeighborsClassifier was fitted with feature names\n",
      "  warnings.warn(\n",
      "['Iris-versicolor']\n",
      "127.0.0.1 - - [26/Sep/2022 20:09:08] \"POST /predictions HTTP/1.1\" 200 -\n"
     ]
    }
   ],
   "source": [
    "!FLASK_ENV=development FLASK_APP=wsgi.py flask run"
   ]
  },
  {
   "cell_type": "code",
   "execution_count": null,
   "metadata": {},
   "outputs": [],
   "source": []
  },
  {
   "cell_type": "code",
   "execution_count": null,
   "metadata": {},
   "outputs": [],
   "source": []
  }
 ],
 "metadata": {
  "kernelspec": {
   "display_name": "Python 3 (ipykernel)",
   "language": "python",
   "name": "python3"
  },
  "language_info": {
   "codemirror_mode": {
    "name": "ipython",
    "version": 3
   },
   "file_extension": ".py",
   "mimetype": "text/x-python",
   "name": "python",
   "nbconvert_exporter": "python",
   "pygments_lexer": "ipython3",
   "version": "3.10.6"
  }
 },
 "nbformat": 4,
 "nbformat_minor": 4
}
